{
 "cells": [
  {
   "cell_type": "code",
   "execution_count": 1,
   "metadata": {},
   "outputs": [],
   "source": [
    "import pandas as pd\n",
    "import numpy as np"
   ]
  },
  {
   "cell_type": "code",
   "execution_count": 2,
   "metadata": {},
   "outputs": [],
   "source": [
    "from preprocess import getdfs"
   ]
  },
  {
   "cell_type": "code",
   "execution_count": 3,
   "metadata": {},
   "outputs": [],
   "source": [
    "train_df, val_df = getdfs()"
   ]
  },
  {
   "cell_type": "code",
   "execution_count": 4,
   "metadata": {},
   "outputs": [
    {
     "data": {
      "text/html": [
       "<div>\n",
       "<style scoped>\n",
       "    .dataframe tbody tr th:only-of-type {\n",
       "        vertical-align: middle;\n",
       "    }\n",
       "\n",
       "    .dataframe tbody tr th {\n",
       "        vertical-align: top;\n",
       "    }\n",
       "\n",
       "    .dataframe thead th {\n",
       "        text-align: right;\n",
       "    }\n",
       "</style>\n",
       "<table border=\"1\" class=\"dataframe\">\n",
       "  <thead>\n",
       "    <tr style=\"text-align: right;\">\n",
       "      <th></th>\n",
       "      <th>c_1</th>\n",
       "      <th>c_2</th>\n",
       "      <th>c_3</th>\n",
       "      <th>c_4</th>\n",
       "      <th>c_5</th>\n",
       "      <th>c_6</th>\n",
       "      <th>c_7</th>\n",
       "      <th>c_8</th>\n",
       "      <th>c_9</th>\n",
       "      <th>c_10</th>\n",
       "      <th>c_11</th>\n",
       "      <th>c_12</th>\n",
       "      <th>c_13</th>\n",
       "      <th>label</th>\n",
       "    </tr>\n",
       "  </thead>\n",
       "  <tbody>\n",
       "    <tr>\n",
       "      <th>0</th>\n",
       "      <td>😛</td>\n",
       "      <td>🛐</td>\n",
       "      <td>😻</td>\n",
       "      <td>😑</td>\n",
       "      <td>😣</td>\n",
       "      <td>🙠</td>\n",
       "      <td>🙯</td>\n",
       "      <td>🚼</td>\n",
       "      <td>😒</td>\n",
       "      <td>🙼</td>\n",
       "      <td>😑</td>\n",
       "      <td>🙯</td>\n",
       "      <td>😣</td>\n",
       "      <td>0</td>\n",
       "    </tr>\n",
       "    <tr>\n",
       "      <th>1</th>\n",
       "      <td>🛐</td>\n",
       "      <td>😑</td>\n",
       "      <td>😪</td>\n",
       "      <td>😛</td>\n",
       "      <td>🚼</td>\n",
       "      <td>🙯</td>\n",
       "      <td>😣</td>\n",
       "      <td>🚅</td>\n",
       "      <td>😑</td>\n",
       "      <td>🙯</td>\n",
       "      <td>😹</td>\n",
       "      <td>😣</td>\n",
       "      <td>🙼</td>\n",
       "      <td>0</td>\n",
       "    </tr>\n",
       "    <tr>\n",
       "      <th>2</th>\n",
       "      <td>😛</td>\n",
       "      <td>🙯</td>\n",
       "      <td>😑</td>\n",
       "      <td>🚡</td>\n",
       "      <td>😣</td>\n",
       "      <td>🚼</td>\n",
       "      <td>🛐</td>\n",
       "      <td>🙲</td>\n",
       "      <td>😣</td>\n",
       "      <td>🙯</td>\n",
       "      <td>🛑</td>\n",
       "      <td>😑</td>\n",
       "      <td>🙼</td>\n",
       "      <td>0</td>\n",
       "    </tr>\n",
       "    <tr>\n",
       "      <th>3</th>\n",
       "      <td>😛</td>\n",
       "      <td>🚼</td>\n",
       "      <td>🛐</td>\n",
       "      <td>🙐</td>\n",
       "      <td>😣</td>\n",
       "      <td>🙯</td>\n",
       "      <td>😑</td>\n",
       "      <td>🙪</td>\n",
       "      <td>😑</td>\n",
       "      <td>🙼</td>\n",
       "      <td>🛆</td>\n",
       "      <td>😣</td>\n",
       "      <td>🙯</td>\n",
       "      <td>1</td>\n",
       "    </tr>\n",
       "    <tr>\n",
       "      <th>4</th>\n",
       "      <td>🛐</td>\n",
       "      <td>🚟</td>\n",
       "      <td>🚼</td>\n",
       "      <td>😛</td>\n",
       "      <td>🙋</td>\n",
       "      <td>😑</td>\n",
       "      <td>😣</td>\n",
       "      <td>🙯</td>\n",
       "      <td>😹</td>\n",
       "      <td>🙯</td>\n",
       "      <td>😑</td>\n",
       "      <td>😣</td>\n",
       "      <td>🙼</td>\n",
       "      <td>1</td>\n",
       "    </tr>\n",
       "  </tbody>\n",
       "</table>\n",
       "</div>"
      ],
      "text/plain": [
       "  c_1 c_2 c_3 c_4 c_5 c_6 c_7 c_8 c_9 c_10 c_11 c_12 c_13  label\n",
       "0   😛   🛐   😻   😑   😣   🙠   🙯   🚼   😒    🙼    😑    🙯    😣      0\n",
       "1   🛐   😑   😪   😛   🚼   🙯   😣   🚅   😑    🙯    😹    😣    🙼      0\n",
       "2   😛   🙯   😑   🚡   😣   🚼   🛐   🙲   😣    🙯    🛑    😑    🙼      0\n",
       "3   😛   🚼   🛐   🙐   😣   🙯   😑   🙪   😑    🙼    🛆    😣    🙯      1\n",
       "4   🛐   🚟   🚼   😛   🙋   😑   😣   🙯   😹    🙯    😑    😣    🙼      1"
      ]
     },
     "execution_count": 4,
     "metadata": {},
     "output_type": "execute_result"
    }
   ],
   "source": [
    "train_df.head()"
   ]
  },
  {
   "cell_type": "markdown",
   "metadata": {},
   "source": [
    "## Emoji to Vector"
   ]
  },
  {
   "cell_type": "code",
   "execution_count": 5,
   "metadata": {},
   "outputs": [],
   "source": [
    "import gensim.models as gsm\n",
    "\n",
    "e2v = gsm.KeyedVectors.load_word2vec_format('emoji2vec.bin', binary=True)"
   ]
  },
  {
   "cell_type": "code",
   "execution_count": 6,
   "metadata": {},
   "outputs": [],
   "source": [
    "X_train = X_val = pd.DataFrame(columns=[f'c_{i+1}' for i in range(13)])"
   ]
  },
  {
   "cell_type": "code",
   "execution_count": 27,
   "metadata": {},
   "outputs": [],
   "source": [
    "def embed_df(df : pd.DataFrame, embedding_dim : int = 300, num_columns: int = 13)-> pd.DataFrame :\n",
    "\n",
    "    # Initialize a list to store rows of combined embeddings\n",
    "    combined_embeddings = []\n",
    "\n",
    "    # Iterate over each row in the dataframe\n",
    "    for idx, row in df.iterrows():\n",
    "        row_embeddings = []\n",
    "        \n",
    "        # Iterate over the 13 columns and get the embedding for each\n",
    "        for i in range(num_columns):\n",
    "            emoji = row[f'c_{i+1}']\n",
    "            \n",
    "            # If the text is not empty, fetch its embedding, else use a zero vector\n",
    "            if emoji in e2v:\n",
    "                embedding = e2v[emoji]\n",
    "            else:\n",
    "                embedding = np.zeros(embedding_dim)\n",
    "            \n",
    "            # Append the embedding to the row list\n",
    "            row_embeddings.append(embedding)\n",
    "        \n",
    "        # Concatenate the embeddings for the row\n",
    "        combined_embeddings.append(np.hstack(row_embeddings))\n",
    "\n",
    "    # Convert the list of rows into a NumPy array\n",
    "    X = np.vstack(combined_embeddings)\n",
    "    \n",
    "    return X\n",
    "\n"
   ]
  },
  {
   "cell_type": "code",
   "execution_count": 28,
   "metadata": {},
   "outputs": [],
   "source": [
    "X_train = embed_df(train_df)\n",
    "X_val = embed_df(val_df)"
   ]
  },
  {
   "cell_type": "code",
   "execution_count": 32,
   "metadata": {},
   "outputs": [
    {
     "name": "stdout",
     "output_type": "stream",
     "text": [
      "(7080, 3900) (489, 3900)\n"
     ]
    }
   ],
   "source": [
    "print(X_train.shape, X_val.shape)"
   ]
  },
  {
   "cell_type": "code",
   "execution_count": 29,
   "metadata": {},
   "outputs": [],
   "source": [
    "y_train = train_df['label']\n",
    "y_val = val_df['label']"
   ]
  },
  {
   "cell_type": "markdown",
   "metadata": {},
   "source": [
    "## XGBoost"
   ]
  },
  {
   "cell_type": "code",
   "execution_count": 30,
   "metadata": {},
   "outputs": [],
   "source": [
    "from usingxgboost import learnAndMakePredictions"
   ]
  },
  {
   "cell_type": "code",
   "execution_count": 31,
   "metadata": {},
   "outputs": [
    {
     "name": "stdout",
     "output_type": "stream",
     "text": [
      "(7080, 3900) (7080,)\n"
     ]
    },
    {
     "name": "stderr",
     "output_type": "stream",
     "text": [
      "/home/arush-upadhyaya/anaconda3/envs/771/lib/python3.12/site-packages/xgboost/core.py:158: UserWarning: [19:12:15] WARNING: /workspace/src/learner.cc:740: \n",
      "Parameters: { \"use_label_encoder\" } are not used.\n",
      "\n",
      "  warnings.warn(smsg, UserWarning)\n"
     ]
    }
   ],
   "source": [
    "y_true, y_pred = learnAndMakePredictions(X_train, y_train, X_val, y_val)"
   ]
  },
  {
   "cell_type": "markdown",
   "metadata": {},
   "source": [
    "## Metrics"
   ]
  },
  {
   "cell_type": "code",
   "execution_count": 33,
   "metadata": {},
   "outputs": [],
   "source": [
    "from evaluate import Evaluate"
   ]
  },
  {
   "cell_type": "code",
   "execution_count": 34,
   "metadata": {},
   "outputs": [
    {
     "name": "stdout",
     "output_type": "stream",
     "text": [
      "              precision    recall  f1-score   support\n",
      "\n",
      "     Class 0       0.80      0.76      0.78       252\n",
      "     Class 1       0.76      0.80      0.78       237\n",
      "\n",
      "    accuracy                           0.78       489\n",
      "   macro avg       0.78      0.78      0.78       489\n",
      "weighted avg       0.78      0.78      0.78       489\n",
      "\n"
     ]
    },
    {
     "data": {
      "image/png": "[encoded data removed]",
      "text/plain": [
       "<Figure size 640x480 with 2 Axes>"
      ]
     },
     "metadata": {},
     "output_type": "display_data"
    },
    {
     "name": "stdout",
     "output_type": "stream",
     "text": [
      "Accuracy is 0.7811860940695297\n"
     ]
    }
   ],
   "source": [
    "Evaluate(y_true, y_pred)"
   ]
  },
  {
   "cell_type": "code",
   "execution_count": null,
   "metadata": {},
   "outputs": [],
   "source": []
  }
 ],
 "metadata": {
  "kernelspec": {
   "display_name": "771",
   "language": "python",
   "name": "python3"
  },
  "language_info": {
   "codemirror_mode": {
    "name": "ipython",
    "version": 3
   },
   "file_extension": ".py",
   "mimetype": "text/x-python",
   "name": "python",
   "nbconvert_exporter": "python",
   "pygments_lexer": "ipython3",
   "version": "3.12.5"
  }
 },
 "nbformat": 4,
 "nbformat_minor": 2
}
