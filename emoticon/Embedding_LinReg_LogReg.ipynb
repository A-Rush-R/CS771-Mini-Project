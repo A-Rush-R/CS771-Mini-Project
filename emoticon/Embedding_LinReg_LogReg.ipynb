{
 "cells": [
  {
   "cell_type": "code",
   "execution_count": 94,
   "metadata": {},
   "outputs": [],
   "source": [
    "import pandas as pd\n",
    "import matplotlib.pyplot as plt\n",
    "import numpy as np\n",
    "from sklearn.linear_model import LinearRegression\n",
    "from sklearn.metrics import accuracy_score, confusion_matrix, ConfusionMatrixDisplay"
   ]
  },
  {
   "cell_type": "markdown",
   "metadata": {},
   "source": [
    "### emoji to text to bert embedding "
   ]
  },
  {
   "cell_type": "code",
   "execution_count": 73,
   "metadata": {},
   "outputs": [],
   "source": [
    "def getdfs(data : str, train_size : float = 1):\n",
    "    '''\n",
    "    preprocess and return train_df and val_df\n",
    "    '''\n",
    "    if data not in ['text_seq', 'feature' , 'emoticon']:\n",
    "        raise ValueError(\"Invalid data type\")\n",
    "    \n",
    "    if data == 'feature' : \n",
    "        train_df = np.load(f\"/Users/siya/Desktop/datasets/train/train_{data}.npz\") #for my laptop\n",
    "        valid_df = np.load(f\"/Users/siya/Desktop/datasets/valid/valid_{data}.npz\")\n",
    "    else :\n",
    "        train_df = pd.read_csv(f\"/Users/siya/Desktop/datasets/train/train_{data}.csv\")\n",
    "        val_df = pd.read_csv(f\"/Users/siya/Desktop/datasets/valid/valid_{data}.csv\")\n",
    "    \n",
    "    train_df = train_df[:int(len(train_df)*train_size)]\n",
    "\n",
    "    def get_char_columns(df):\n",
    "        for i in range(len(df['input_emoticon'][0])):\n",
    "            df[f'c_{i+1}'] = df['input_emoticon'].apply(lambda x, _i=i: x[_i])\n",
    "        \n",
    "        return df[df.columns.to_list()[2:] + ['label']]\n",
    "\n",
    "    if data == 'emoticon':\n",
    "        train_df = get_char_columns(train_df)\n",
    "        val_df = get_char_columns(val_df)\n",
    "\n",
    "    return train_df, val_df"
   ]
  },
  {
   "cell_type": "code",
   "execution_count": 74,
   "metadata": {},
   "outputs": [],
   "source": [
    "\n",
    "from transformers import AutoTokenizer, AutoModel\n",
    "import torch\n",
    "import demoji\n",
    "\n",
    "train_df, val_df = getdfs('emoticon')\n",
    "\n",
    "for i in range(13) :\n",
    "    train_df[f'c_{i+1}_text'] = train_df[f'c_{i+1}'].apply(lambda x: demoji.replace_with_desc(x)[1:-1] if x != '' else x)\n",
    "    val_df[f'c_{i+1}_text'] = val_df[f'c_{i+1}'].apply(lambda x: demoji.replace_with_desc(x)[1:-1] if x != '' else x)\n",
    "\n",
    "\n",
    "tokenizer = AutoTokenizer.from_pretrained('bert-base-uncased')\n",
    "model = AutoModel.from_pretrained('bert-base-uncased')\n",
    "\n",
    "def text2embed(text) :\n",
    "    inputs = tokenizer(text, return_tensors='pt')\n",
    "    \n",
    "    with torch.no_grad():\n",
    "        outputs = model(**inputs)\n",
    "        \n",
    "    embeddings = outputs.last_hidden_state\n",
    "    sentence_embedding = torch.mean(embeddings, dim=1)\n",
    "\n",
    "    return sentence_embedding.numpy().reshape(-1)\n",
    "\n",
    "texts = []\n",
    "for i in range(13) :\n",
    "    for text in train_df[f'c_{i+1}_text'] :\n",
    "        texts.append(text)\n",
    "texts = list(set(texts))\n",
    "\n",
    "dict_text2bed = {f'{text}' : text2embed(text) for text in texts}\n",
    "\n",
    "def embed_df(df : pd.DataFrame, embedding_dim : int = 768, num_columns: int = 13)-> pd.DataFrame :\n",
    "\n",
    "    # Initialize a list to store rows of combined embeddings\n",
    "    combined_embeddings = []\n",
    "\n",
    "    # Iterate over each row in the dataframe\n",
    "    for idx, row in df.iterrows():\n",
    "        row_embeddings = []\n",
    "        \n",
    "        # Iterate over the 13 columns and get the embedding for each\n",
    "        for i in range(num_columns):\n",
    "            column_text = row[f'c_{i+1}_text']\n",
    "            \n",
    "            # If the text is not empty, fetch its embedding, else use a zero vector\n",
    "            if column_text != '':\n",
    "                embedding = dict_text2bed.get(column_text, np.zeros(embedding_dim))\n",
    "            else:\n",
    "                embedding = np.zeros(embedding_dim)\n",
    "            \n",
    "            # Append the embedding to the row list\n",
    "            row_embeddings.append(embedding)\n",
    "        \n",
    "        # Concatenate the embeddings for the row\n",
    "        combined_embeddings.append(np.hstack(row_embeddings))\n",
    "\n",
    "    # Convert the list of rows into a NumPy array\n",
    "    X = np.vstack(combined_embeddings)\n",
    "    \n",
    "    return X\n",
    "\n",
    "train_X1 = embed_df(train_df)\n",
    "train_Y1 = train_df['label']\n",
    "\n",
    "valid_X1 = embed_df(val_df)\n",
    "valid_Y1 = val_df['label']"
   ]
  },
  {
   "cell_type": "code",
   "execution_count": 75,
   "metadata": {},
   "outputs": [],
   "source": [
    "# Read feature dataset\n",
    "train_feat = np.load(\"/Users/siya/Desktop/datasets/train/train_feature.npz\", allow_pickle=True)\n",
    "val_feat = np.load(\"/Users/siya/Desktop/datasets/valid/valid_feature.npz\", allow_pickle=True)\n",
    "train_X2 = train_feat['features']\n",
    "train_Y2 = train_feat['label']\n",
    "valid_X2 = val_feat['features']\n",
    "valid_Y2 = val_feat['label']"
   ]
  },
  {
   "cell_type": "code",
   "execution_count": 76,
   "metadata": {},
   "outputs": [
    {
     "name": "stdout",
     "output_type": "stream",
     "text": [
      "(7080, 9984)\n"
     ]
    }
   ],
   "source": [
    "train_X2 = train_X2.reshape(7080, -1)\n",
    "print(train_X2.shape)"
   ]
  },
  {
   "cell_type": "code",
   "execution_count": 77,
   "metadata": {},
   "outputs": [
    {
     "name": "stdout",
     "output_type": "stream",
     "text": [
      "(489, 9984)\n"
     ]
    }
   ],
   "source": [
    "valid_X2 = valid_X2.reshape(489, -1)\n",
    "print(valid_X2.shape)"
   ]
  },
  {
   "cell_type": "markdown",
   "metadata": {},
   "source": [
    "### Linear Regression "
   ]
  },
  {
   "cell_type": "code",
   "execution_count": 78,
   "metadata": {},
   "outputs": [
    {
     "name": "stdout",
     "output_type": "stream",
     "text": [
      "R^2 score: 0.9501838798419456\n"
     ]
    }
   ],
   "source": [
    "model = LinearRegression()\n",
    "model.fit(train_X1, train_X2)\n",
    "\n",
    "# Check the R^2 score for the prediction\n",
    "r2_score = model.score(train_X1, train_X2)\n",
    "print(f\"R^2 score: {r2_score}\")\n"
   ]
  },
  {
   "cell_type": "code",
   "execution_count": 79,
   "metadata": {},
   "outputs": [
    {
     "name": "stdout",
     "output_type": "stream",
     "text": [
      "R^2 score: 1.0\n"
     ]
    }
   ],
   "source": [
    "model2 = LinearRegression()\n",
    "model2.fit(valid_X1, valid_X2)\n",
    "\n",
    "# Check the R^2 score for the prediction\n",
    "r2_score = model2.score(valid_X1, valid_X2)\n",
    "print(f\"R^2 score: {r2_score}\")\n"
   ]
  },
  {
   "cell_type": "code",
   "execution_count": 97,
   "metadata": {},
   "outputs": [
    {
     "name": "stdout",
     "output_type": "stream",
     "text": [
      "First 5 Actual values of train_feat_X2:\n",
      " [[-0.06862289 -0.02029774  0.06447055 ... -0.02888818  0.01680396\n",
      "   0.08289439]\n",
      " [-0.06862289 -0.02029774  0.06447055 ...  0.14048833 -0.02094931\n",
      "  -0.00344788]\n",
      " [-0.06862289 -0.02029774  0.06447055 ...  0.04369658 -0.00869946\n",
      "   0.00046251]\n",
      " [-0.06862289 -0.02029774  0.06447055 ... -0.05947836  0.08291107\n",
      "  -0.02483253]\n",
      " [-0.06862289 -0.02029774  0.06447055 ...  0.14048833 -0.02094931\n",
      "  -0.00344788]]\n",
      "First 5 Predicted values:\n",
      " [[-0.06862289 -0.02029774  0.06447055 ... -0.05444527  0.02497864\n",
      "   0.07116699]\n",
      " [-0.06862289 -0.02029774  0.06447055 ...  0.15086365 -0.00799561\n",
      "   0.00744629]\n",
      " [-0.06862289 -0.02029774  0.06447055 ...  0.0477829  -0.00387573\n",
      "  -0.0171814 ]\n",
      " [-0.06862289 -0.02029774  0.06447055 ...  0.02016449  0.045578\n",
      "  -0.02502441]\n",
      " [-0.06862289 -0.02029774  0.06447055 ...  0.11522293 -0.00656128\n",
      "  -0.01596069]]\n"
     ]
    }
   ],
   "source": [
    "predictions = model.predict(train_X1)\n",
    "print(\"First 5 Actual values of train_feat_X2:\\n\", train_X2[:5])\n",
    "print(\"First 5 Predicted values:\\n\", predictions[:5])\n"
   ]
  },
  {
   "cell_type": "code",
   "execution_count": 98,
   "metadata": {},
   "outputs": [
    {
     "name": "stdout",
     "output_type": "stream",
     "text": [
      "First 5 Actual values of train_feat_X2:\n",
      " [[-0.06862289 -0.02029774  0.06447055 ... -0.01089599  0.00105733\n",
      "  -0.03477021]\n",
      " [-0.06862289 -0.02029774  0.06447055 ... -0.09369107  0.16246203\n",
      "  -0.10867456]\n",
      " [-0.06862289 -0.02029774  0.06447055 ...  0.08100505 -0.04182076\n",
      "   0.1194331 ]\n",
      " [-0.06862289 -0.02029774  0.06447055 ... -0.02888818  0.01680396\n",
      "   0.08289439]\n",
      " [-0.06862289 -0.02029774  0.06447055 ... -0.09709942  0.23405814\n",
      "  -0.17397732]]\n",
      "First 5 Predicted values:\n",
      " [[-0.06862289 -0.02029774  0.06447055 ... -0.01089599  0.00105733\n",
      "  -0.03477021]\n",
      " [-0.06862289 -0.02029774  0.06447055 ... -0.09369107  0.16246203\n",
      "  -0.10867456]\n",
      " [-0.06862289 -0.02029774  0.06447055 ...  0.08100505 -0.04182076\n",
      "   0.1194331 ]\n",
      " [-0.06862289 -0.02029774  0.06447055 ... -0.02888818  0.01680396\n",
      "   0.08289439]\n",
      " [-0.06862289 -0.02029774  0.06447055 ... -0.09709942  0.23405814\n",
      "  -0.17397732]]\n"
     ]
    }
   ],
   "source": [
    "predictions_val = model2.predict(valid_X1)\n",
    "print(\"First 5 Actual values of train_feat_X2:\\n\", valid_X2[:5])\n",
    "print(\"First 5 Predicted values:\\n\", predictions_val[:5])"
   ]
  },
  {
   "cell_type": "markdown",
   "metadata": {},
   "source": [
    "### Logistic Regression "
   ]
  },
  {
   "cell_type": "code",
   "execution_count": 99,
   "metadata": {},
   "outputs": [
    {
     "name": "stdout",
     "output_type": "stream",
     "text": [
      "Accuracy: 95.09%\n"
     ]
    },
    {
     "data": {
      "image/png": "[encoded data removed]",
      "text/plain": [
       "<Figure size 640x480 with 2 Axes>"
      ]
     },
     "metadata": {},
     "output_type": "display_data"
    }
   ],
   "source": [
    "y_pred_lr = LogisticRegression(max_iter=1000, random_state=42)\n",
    "y_pred_lr.fit(predictions, train_Y1)\n",
    "\n",
    "# Make predictions using the logistic regression model\n",
    "predictions = y_pred_lr.predict(predictions_val)\n",
    "\n",
    "# Calculate accuracy\n",
    "accuracy = accuracy_score(valid_Y1, predictions)\n",
    "print(f\"Accuracy: {accuracy * 100:.2f}%\")\n",
    "\n",
    "# Compute and plot the confusion matrix\n",
    "conf_matrix = confusion_matrix(valid_Y1, predictions)\n",
    "disp = ConfusionMatrixDisplay(confusion_matrix=conf_matrix)\n",
    "disp.plot(cmap='Blues', values_format='d')\n",
    "plt.title('Confusion Matrix')\n",
    "plt.show()\n"
   ]
  },
  {
   "cell_type": "code",
   "execution_count": null,
   "metadata": {},
   "outputs": [],
   "source": []
  }
 ],
 "metadata": {
  "kernelspec": {
   "display_name": "myproject_env",
   "language": "python",
   "name": "python3"
  },
  "language_info": {
   "codemirror_mode": {
    "name": "ipython",
    "version": 3
   },
   "file_extension": ".py",
   "mimetype": "text/x-python",
   "name": "python",
   "nbconvert_exporter": "python",
   "pygments_lexer": "ipython3",
   "version": "3.10.15"
  }
 },
 "nbformat": 4,
 "nbformat_minor": 2
}
