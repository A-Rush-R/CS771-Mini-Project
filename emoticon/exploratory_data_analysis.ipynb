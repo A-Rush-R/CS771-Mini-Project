{
 "cells": [
  {
   "cell_type": "code",
   "execution_count": 118,
   "metadata": {},
   "outputs": [],
   "source": [
    "import pandas as pd\n",
    "import numpy as np\n",
    "from sklearn.feature_extraction.text import CountVectorizer\n",
    "from sklearn.linear_model import LogisticRegression\n",
    "import matplotlib.pyplot as plt\n",
    "from sklearn.model_selection import train_test_split\n",
    "from sklearn.metrics import (\n",
    "    confusion_matrix,\n",
    "    ConfusionMatrixDisplay,\n",
    "    classification_report,\n",
    ")\n",
    "import os\n",
    "import sys\n",
    "sys.path.append(os.path.abspath('../common')) # add path to common functions"
   ]
  },
  {
   "cell_type": "code",
   "execution_count": 119,
   "metadata": {},
   "outputs": [],
   "source": [
    "from evaluate import get_classification_report, evaluate_predictions"
   ]
  },
  {
   "cell_type": "code",
   "execution_count": 120,
   "metadata": {},
   "outputs": [],
   "source": [
    "emote_df = pd.read_csv(\"../datasets/train/train_emoticon.csv\")"
   ]
  },
  {
   "cell_type": "code",
   "execution_count": 121,
   "metadata": {},
   "outputs": [],
   "source": [
    "from preprocess import getdfs\n",
    "train_df, test_df = getdfs()\n",
    "y_train = train_df[\"label\"]\n",
    "y_test = test_df[\"label\"]"
   ]
  },
  {
   "cell_type": "markdown",
   "metadata": {},
   "source": [
    "Preprocessing the data into numeric form"
   ]
  },
  {
   "cell_type": "code",
   "execution_count": 122,
   "metadata": {},
   "outputs": [],
   "source": [
    "# 1. split the string into individual characters\n",
    "# 2. run a correlation matrix on each category\n",
    "# check number of distinct emotes\n",
    "\n",
    "# Split the string into individual characters\n",
    "emote_df[\"characters\"] = emote_df[\"input_emoticon\"].apply(list)\n",
    "\n",
    "# Create new columns for each character\n",
    "for i in range(len(emote_df[\"characters\"][0])):\n",
    "    emote_df[f\"c_{i+1}\"] = emote_df[\"characters\"].apply(\n",
    "        lambda x: x[i] if len(x) > i else \"\"\n",
    "    )\n",
    "l1 = [f\"c_{i+1}\" for i in range(len(emote_df[\"characters\"][0]))]\n",
    "edf = emote_df[l1].apply(lambda x: [ord(i) for i in x])\n",
    "edf.insert(13, \"label\", emote_df[\"label\"])"
   ]
  },
  {
   "cell_type": "markdown",
   "metadata": {},
   "source": [
    "Function block"
   ]
  },
  {
   "cell_type": "markdown",
   "metadata": {},
   "source": [
    "Failed Approach : Creating a Bag-of-words of only the most significant emojis."
   ]
  },
  {
   "cell_type": "code",
   "execution_count": 123,
   "metadata": {},
   "outputs": [],
   "source": [
    "# print the n most common emotes in each category\n",
    "# for col in l1:\n",
    "#     print(f\"Most common emotes in {col}:\")\n",
    "#     print(edf[col].value_counts().head(n))\n",
    "\n",
    "# 1. bag of words method\n",
    "\n",
    "\n",
    "# Take the 7 most common emotes\n",
    "# print(edf[l1].apply(pd.Series.value_counts).sum(axis=1).nlargest(100).head(10))\n",
    "# Create a bag of words model\n",
    "\n",
    "# common_emotes = edf[l1].apply(pd.Series.value_counts).sum(axis=1).nlargest(7).index.tolist()\n",
    "# vectorizer = CountVectorizer(vocabulary=[str(emote) for emote in common_emotes])\n",
    "# emote_strings = edf[l1].apply(lambda row: ' '.join(row.astype(str)), axis=1)\n",
    "# bag_of_words = vectorizer.fit_transform(emote_strings)\n",
    "# Convert to DataFrame for better readability\n",
    "# bow_df = pd.DataFrame(bag_of_words.toarray(), columns=vectorizer.get_feature_names_out())\n",
    "# bow_df['label'] = edf['label']\n",
    "# bow_df\n",
    "\n",
    "# every entry has a same common set of 7 emojis shuffled around"
   ]
  },
  {
   "cell_type": "markdown",
   "metadata": {},
   "source": [
    "We Create a comprehensive non-dimensionally reduced Bag of words model: this also didnt work"
   ]
  },
  {
   "cell_type": "code",
   "execution_count": 124,
   "metadata": {},
   "outputs": [],
   "source": [
    "# make a list of all the unique emotes in edf\n",
    "unique_emotes = pd.unique(train_df[l1].values.ravel())\n",
    "\n",
    "vectorizer = CountVectorizer(vocabulary=[emote for emote in unique_emotes])\n",
    "emote_strings = edf[l1].apply(lambda row: \" \".join(row.astype(str)), axis=1)\n",
    "bag_of_words = vectorizer.fit_transform(emote_strings)\n",
    "# Convert to DataFrame for better readability\n",
    "bow_sparse_df = pd.DataFrame(\n",
    "    bag_of_words.toarray(), columns=vectorizer.get_feature_names_out()\n",
    ")\n",
    "bow_sparse_df[\"label\"] = edf[\"label\"]\n",
    "bow_sparse_df.shape\n",
    "\n",
    "bow = bow_sparse_df.to_numpy()\n",
    "\n",
    "X_bow = bow[:, :-1]\n",
    "y_bow = bow[:, -1]\n"
   ]
  },
  {
   "cell_type": "markdown",
   "metadata": {},
   "source": [
    "## LOGISTIC REGRESSION \n",
    "on non-dimensionally reduced bag of words model"
   ]
  },
  {
   "cell_type": "code",
   "execution_count": 125,
   "metadata": {},
   "outputs": [],
   "source": [
    "# Define features and target\n",
    "# Perform train-test split\n",
    "X_train_bow, X_test_bow, y_train_bow, y_test_bow = train_test_split(\n",
    "    X_bow, y_bow, test_size=0.2, random_state=42\n",
    ")\n",
    "\n",
    "\n",
    "log_reg = LogisticRegression(max_iter=10000)\n",
    "log_reg.fit(X_train_bow, y_train_bow)\n",
    "\n",
    "y_train_pred = log_reg.predict(X_train_bow)\n",
    "y_test_pred = log_reg.predict(X_test_bow)\n",
    "\n",
    "# evaluate_predictions(y_train_bow, y_train_pred, \"Title\")"
   ]
  },
  {
   "cell_type": "markdown",
   "metadata": {},
   "source": [
    "TF-IDF MAPPING: also didnt work"
   ]
  },
  {
   "cell_type": "code",
   "execution_count": 126,
   "metadata": {},
   "outputs": [],
   "source": [
    "from sklearn.feature_extraction.text import TfidfVectorizer\n",
    "\n",
    "# Create a TF-IDF vectorizer\n",
    "tfidf_vectorizer = TfidfVectorizer(vocabulary=[str(emote) for emote in unique_emotes])\n",
    "\n",
    "# Fit and transform the emote strings\n",
    "tfidf_matrix = tfidf_vectorizer.fit_transform(emote_strings)\n",
    "\n",
    "# Convert to DataFrame for better readability\n",
    "tfidf_df = pd.DataFrame(\n",
    "    tfidf_matrix.toarray(), columns=tfidf_vectorizer.get_feature_names_out()\n",
    ")\n",
    "tfidf_df[\"label\"] = edf[\"label\"]\n",
    "\n",
    "# Display the TF-IDF DataFrame\n",
    "tfidf = tfidf_df.to_numpy()\n",
    "X_tf = tfidf[:, :-1]\n",
    "y_tf = tfidf[:, -1]"
   ]
  },
  {
   "cell_type": "code",
   "execution_count": 127,
   "metadata": {},
   "outputs": [],
   "source": [
    "X_train_tf, X_test_tf, y_train_tf, y_test_tf = train_test_split(\n",
    "    X_tf, y_tf, test_size=0.2, random_state=42\n",
    ")\n",
    "\n",
    "log_reg.fit(X_train_tf, y_train_tf)\n",
    "\n",
    "y_train_pred_tf = log_reg.predict(X_train_tf)\n",
    "y_test_pred_tf = log_reg.predict(X_test_tf)\n",
    "# evaluate_predictions(y_train, y_train_pred, 'title')\n"
   ]
  },
  {
   "cell_type": "markdown",
   "metadata": {},
   "source": [
    "## SUPPORT VECTOR MACHINE"
   ]
  },
  {
   "cell_type": "markdown",
   "metadata": {},
   "source": [
    "on Bag of words"
   ]
  },
  {
   "cell_type": "code",
   "execution_count": 128,
   "metadata": {},
   "outputs": [
    {
     "name": "stderr",
     "output_type": "stream",
     "text": [
      "/opt/miniconda3/envs/cs771/lib/python3.12/site-packages/sklearn/metrics/_classification.py:1531: UndefinedMetricWarning: Precision is ill-defined and being set to 0.0 in labels with no predicted samples. Use `zero_division` parameter to control this behavior.\n",
      "  _warn_prf(average, modifier, f\"{metric.capitalize()} is\", len(result))\n",
      "/opt/miniconda3/envs/cs771/lib/python3.12/site-packages/sklearn/metrics/_classification.py:1531: UndefinedMetricWarning: Precision is ill-defined and being set to 0.0 in labels with no predicted samples. Use `zero_division` parameter to control this behavior.\n",
      "  _warn_prf(average, modifier, f\"{metric.capitalize()} is\", len(result))\n",
      "/opt/miniconda3/envs/cs771/lib/python3.12/site-packages/sklearn/metrics/_classification.py:1531: UndefinedMetricWarning: Precision is ill-defined and being set to 0.0 in labels with no predicted samples. Use `zero_division` parameter to control this behavior.\n",
      "  _warn_prf(average, modifier, f\"{metric.capitalize()} is\", len(result))\n",
      "/opt/miniconda3/envs/cs771/lib/python3.12/site-packages/sklearn/metrics/_classification.py:1531: UndefinedMetricWarning: Precision is ill-defined and being set to 0.0 in labels with no predicted samples. Use `zero_division` parameter to control this behavior.\n",
      "  _warn_prf(average, modifier, f\"{metric.capitalize()} is\", len(result))\n",
      "/opt/miniconda3/envs/cs771/lib/python3.12/site-packages/sklearn/metrics/_classification.py:1531: UndefinedMetricWarning: Precision is ill-defined and being set to 0.0 in labels with no predicted samples. Use `zero_division` parameter to control this behavior.\n",
      "  _warn_prf(average, modifier, f\"{metric.capitalize()} is\", len(result))\n",
      "/opt/miniconda3/envs/cs771/lib/python3.12/site-packages/sklearn/metrics/_classification.py:1531: UndefinedMetricWarning: Precision is ill-defined and being set to 0.0 in labels with no predicted samples. Use `zero_division` parameter to control this behavior.\n",
      "  _warn_prf(average, modifier, f\"{metric.capitalize()} is\", len(result))\n"
     ]
    }
   ],
   "source": [
    "from sklearn.svm import SVC\n",
    "\n",
    "# Perform train-test split\n",
    "\n",
    "# Create and train the SVM model\n",
    "svm_model = SVC(kernel=\"linear\", C=1.0, random_state=42)\n",
    "svm_model.fit(X_train_bow, y_train_bow)\n",
    "\n",
    "# Make predictions\n",
    "y_train_pred_svm_bow = svm_model.predict(X_train_bow)\n",
    "y_test_pred_svm_bow = svm_model.predict(X_test_bow)\n",
    "\n",
    "# Evaluate the model\n",
    "train_report_svm = get_classification_report(y_train_bow, y_train_pred_svm_bow)\n",
    "test_report_svm = get_classification_report(y_test_bow, y_test_pred_svm_bow)"
   ]
  },
  {
   "cell_type": "markdown",
   "metadata": {},
   "source": [
    "PCA didnt work"
   ]
  },
  {
   "cell_type": "code",
   "execution_count": 129,
   "metadata": {},
   "outputs": [],
   "source": [
    "# # Perform PCA\n",
    "# pca = PCA(n_components=2)\n",
    "# principal_components = pca.fit_transform(edf[l1])\n",
    "\n",
    "# # Create a DataFrame with the principal components\n",
    "# pca_df = pd.DataFrame(data=principal_components, columns=['principal_component_1'])\n",
    "# pca_df['label'] = edf['label']\n",
    "\n",
    "# # Display the PCA DataFrame\n",
    "# pca_df.to_numpy()\n",
    "# X_pca = pca_df.to_numpy()[:, :-1]\n",
    "# y_pca = pca_df.to_numpy()[:, -1]\n",
    "\n",
    "# X_train_pca, X_test_pca, y_train_pca, y_test_pca = train_test_split(X_pca, y_pca, test_size=0.2, random_state=42)\n",
    "# log_reg.fit(X_train_pca, y_train_pca)\n",
    "\n",
    "# y_train_pred_pca = log_reg.predict(X_train_pca)\n",
    "# y_test_pred_pca = log_reg.predict(X_test_pca)\n",
    "\n",
    "# train_report_pca = get_classification_report(y_train_pca, y_train_pred_pca)\n",
    "# test_report_pca = get_classification_report(y_test_pca, y_test_pred_pca)\n",
    "\n",
    "# print(\"Train Classification Report for PCA:\\n\", train_report_pca)\n",
    "# print(\"Test Classification Report for PCA:\\n\", test_report_pca)\n",
    "\n",
    "# plot_confusion_matrix(y_train_pca, y_train_pred_pca, ['Class 0', 'Class 1'], title='Train Confusion Matrix')"
   ]
  },
  {
   "cell_type": "code",
   "execution_count": 130,
   "metadata": {},
   "outputs": [],
   "source": [
    "emo_spaced = [\" \".join(x) for x in emote_df[\"characters\"]]\n",
    "sentences = emo_spaced\n",
    "\n",
    "\n",
    "# Simple Tokenizer (word-to-index mapping)\n",
    "class SimpleTokenizer:\n",
    "    def __init__(self):\n",
    "        self.word2idx = {}\n",
    "        self.idx2word = {}\n",
    "        self.vocab_size = 0\n",
    "\n",
    "    def fit(self, sentences):\n",
    "        idx = 1  # Start index from 1 (0 is reserved for padding)\n",
    "        for sentence in sentences:\n",
    "            for word in sentence.split():\n",
    "                if word not in self.word2idx:\n",
    "                    self.word2idx[word] = idx\n",
    "                    self.idx2word[idx] = word\n",
    "                    idx += 1\n",
    "        self.vocab_size = idx\n",
    "\n",
    "    def texts_to_sequences(self, sentences):\n",
    "        sequences = []\n",
    "        for sentence in sentences:\n",
    "            sequences.append([self.word2idx[word] for word in sentence.split()])\n",
    "        return sequences\n",
    "\n",
    "\n",
    "# Initialize tokenizer and fit on sentences\n",
    "tokenizer = SimpleTokenizer()\n",
    "tokenizer.fit(sentences)\n",
    "\n",
    "# Convert sentences to sequences of indices\n",
    "sequences = tokenizer.texts_to_sequences(sentences)\n",
    "X_tr, X_te, y_tr, y_te = train_test_split(\n",
    "    sequences, y_bow, test_size=0.2, random_state=42\n",
    ")"
   ]
  },
  {
   "cell_type": "code",
   "execution_count": 131,
   "metadata": {},
   "outputs": [],
   "source": [
    "log_reg.fit(X_tr, y_tr)\n",
    "\n",
    "# Make predictions\n",
    "y_pr_tr = log_reg.predict(X_tr)\n",
    "y_pr_te = log_reg.predict(X_te)\n",
    "\n",
    "# Evaluate the model\n",
    "train_report_svm = get_classification_report(y_tr, y_pr_tr)\n",
    "test_report_svm = get_classification_report(y_te, y_pr_te)"
   ]
  },
  {
   "cell_type": "code",
   "execution_count": 132,
   "metadata": {},
   "outputs": [
    {
     "name": "stdout",
     "output_type": "stream",
     "text": [
      "   label  c_1_😁  c_1_😂  c_1_😃  c_1_😄  c_1_😅  c_1_😆  c_1_😇  c_1_😉  c_1_😊  ...  \\\n",
      "0      0  False  False  False  False  False  False  False  False  False  ...   \n",
      "1      0  False  False  False  False  False  False  False  False  False  ...   \n",
      "2      0  False  False  False  False  False  False  False  False  False  ...   \n",
      "3      1  False  False  False  False  False  False  False  False  False  ...   \n",
      "4      1  False  False  False  False  False  False  False  False  False  ...   \n",
      "\n",
      "   c_13_🛍  c_13_🛏  c_13_🛑  c_13_🛓  c_13_🛖  c_13_🛘  c_13_🛙  c_13_🛛  c_13_🛟  \\\n",
      "0   False   False   False   False   False   False   False   False   False   \n",
      "1   False   False   False   False   False   False   False   False   False   \n",
      "2   False   False   False   False   False   False   False   False   False   \n",
      "3   False   False   False   False   False   False   False   False   False   \n",
      "4   False   False   False   False   False   False   False   False   False   \n",
      "\n",
      "   c_13_🛡  \n",
      "0   False  \n",
      "1   False  \n",
      "2   False  \n",
      "3   False  \n",
      "4   False  \n",
      "\n",
      "[5 rows x 2147 columns]    label  c_1_😅  c_1_😆  c_1_😇  c_1_😍  c_1_😐  c_1_😑  c_1_😓  c_1_😔  c_1_😕  ...  \\\n",
      "0      1  False  False  False  False  False  False  False  False  False  ...   \n",
      "1      1  False  False  False  False  False  False  False  False  False  ...   \n",
      "2      0  False  False  False  False  False  False  False  False  False  ...   \n",
      "3      0  False  False  False  False  False  False  False  False  False  ...   \n",
      "4      1  False  False  False  False  False  False  False  False  False  ...   \n",
      "\n",
      "   c_13_🛅  c_13_🛆  c_13_🛍  c_13_🛏  c_13_🛓  c_13_🛖  c_13_🛘  c_13_🛙  c_13_🛛  \\\n",
      "0   False   False   False   False   False   False   False   False   False   \n",
      "1   False   False   False   False   False   False   False   False   False   \n",
      "2   False   False   False   False   False   False   False   False   False   \n",
      "3   False   False   False   False   False   False   False   False   False   \n",
      "4   False   False   False   False   False   False   False   False   False   \n",
      "\n",
      "   c_13_🛡  \n",
      "0   False  \n",
      "1   False  \n",
      "2   False  \n",
      "3   False  \n",
      "4   False  \n",
      "\n",
      "[5 rows x 1069 columns]\n"
     ]
    }
   ],
   "source": [
    "# Create one-hot encoding of the dataset\n",
    "from preprocess import one_hot_encode\n",
    "\n",
    "oh_X_train, oh_X_val, y_train, y_val = one_hot_encode(train_df, test_df)"
   ]
  },
  {
   "cell_type": "code",
   "execution_count": 133,
   "metadata": {},
   "outputs": [
    {
     "ename": "ValueError",
     "evalue": "The feature names should match those that were passed during fit.\nFeature names seen at fit time, yet now missing:\n- c_10_😅\n- c_10_😉\n- c_10_😊\n- c_10_😔\n- c_10_😢\n- ...\n",
     "output_type": "error",
     "traceback": [
      "\u001b[0;31m---------------------------------------------------------------------------\u001b[0m",
      "\u001b[0;31mValueError\u001b[0m                                Traceback (most recent call last)",
      "Cell \u001b[0;32mIn[133], line 2\u001b[0m\n\u001b[1;32m      1\u001b[0m \u001b[38;5;28;01mfrom\u001b[39;00m \u001b[38;5;21;01mmodels\u001b[39;00m \u001b[38;5;28;01mimport\u001b[39;00m predict_logistic_regression\n\u001b[0;32m----> 2\u001b[0m oh_y_pred \u001b[38;5;241m=\u001b[39m \u001b[43mpredict_logistic_regression\u001b[49m\u001b[43m(\u001b[49m\u001b[43moh_X_train\u001b[49m\u001b[43m,\u001b[49m\u001b[43m \u001b[49m\u001b[43my_train\u001b[49m\u001b[43m,\u001b[49m\u001b[43m \u001b[49m\u001b[43moh_X_val\u001b[49m\u001b[43m)\u001b[49m\n\u001b[1;32m      4\u001b[0m evaluate_predictions(y_val, oh_y_pred, \u001b[38;5;124m\"\u001b[39m\u001b[38;5;124mLogistic Regression on One hot\u001b[39m\u001b[38;5;124m\"\u001b[39m)\n",
      "File \u001b[0;32m~/Documents/GitHub/CS771-Mini-Project/common/models.py:30\u001b[0m, in \u001b[0;36mpredict_logistic_regression\u001b[0;34m(x_train, y_train, x_val, max_iter, random_state)\u001b[0m\n\u001b[1;32m     27\u001b[0m lr_model \u001b[38;5;241m=\u001b[39m LogisticRegression(max_iter\u001b[38;5;241m=\u001b[39mmax_iter, random_state\u001b[38;5;241m=\u001b[39mrandom_state)\n\u001b[1;32m     28\u001b[0m lr_model\u001b[38;5;241m.\u001b[39mfit(x_train, y_train)\n\u001b[0;32m---> 30\u001b[0m y_pred \u001b[38;5;241m=\u001b[39m \u001b[43mlr_model\u001b[49m\u001b[38;5;241;43m.\u001b[39;49m\u001b[43mpredict\u001b[49m\u001b[43m(\u001b[49m\u001b[43mx_val\u001b[49m\u001b[43m)\u001b[49m\n\u001b[1;32m     32\u001b[0m \u001b[38;5;28;01mreturn\u001b[39;00m y_pred\n",
      "File \u001b[0;32m/opt/miniconda3/envs/cs771/lib/python3.12/site-packages/sklearn/linear_model/_base.py:382\u001b[0m, in \u001b[0;36mLinearClassifierMixin.predict\u001b[0;34m(self, X)\u001b[0m\n\u001b[1;32m    368\u001b[0m \u001b[38;5;250m\u001b[39m\u001b[38;5;124;03m\"\"\"\u001b[39;00m\n\u001b[1;32m    369\u001b[0m \u001b[38;5;124;03mPredict class labels for samples in X.\u001b[39;00m\n\u001b[1;32m    370\u001b[0m \n\u001b[0;32m   (...)\u001b[0m\n\u001b[1;32m    379\u001b[0m \u001b[38;5;124;03m    Vector containing the class labels for each sample.\u001b[39;00m\n\u001b[1;32m    380\u001b[0m \u001b[38;5;124;03m\"\"\"\u001b[39;00m\n\u001b[1;32m    381\u001b[0m xp, _ \u001b[38;5;241m=\u001b[39m get_namespace(X)\n\u001b[0;32m--> 382\u001b[0m scores \u001b[38;5;241m=\u001b[39m \u001b[38;5;28;43mself\u001b[39;49m\u001b[38;5;241;43m.\u001b[39;49m\u001b[43mdecision_function\u001b[49m\u001b[43m(\u001b[49m\u001b[43mX\u001b[49m\u001b[43m)\u001b[49m\n\u001b[1;32m    383\u001b[0m \u001b[38;5;28;01mif\u001b[39;00m \u001b[38;5;28mlen\u001b[39m(scores\u001b[38;5;241m.\u001b[39mshape) \u001b[38;5;241m==\u001b[39m \u001b[38;5;241m1\u001b[39m:\n\u001b[1;32m    384\u001b[0m     indices \u001b[38;5;241m=\u001b[39m xp\u001b[38;5;241m.\u001b[39mastype(scores \u001b[38;5;241m>\u001b[39m \u001b[38;5;241m0\u001b[39m, indexing_dtype(xp))\n",
      "File \u001b[0;32m/opt/miniconda3/envs/cs771/lib/python3.12/site-packages/sklearn/linear_model/_base.py:363\u001b[0m, in \u001b[0;36mLinearClassifierMixin.decision_function\u001b[0;34m(self, X)\u001b[0m\n\u001b[1;32m    360\u001b[0m check_is_fitted(\u001b[38;5;28mself\u001b[39m)\n\u001b[1;32m    361\u001b[0m xp, _ \u001b[38;5;241m=\u001b[39m get_namespace(X)\n\u001b[0;32m--> 363\u001b[0m X \u001b[38;5;241m=\u001b[39m \u001b[38;5;28;43mself\u001b[39;49m\u001b[38;5;241;43m.\u001b[39;49m\u001b[43m_validate_data\u001b[49m\u001b[43m(\u001b[49m\u001b[43mX\u001b[49m\u001b[43m,\u001b[49m\u001b[43m \u001b[49m\u001b[43maccept_sparse\u001b[49m\u001b[38;5;241;43m=\u001b[39;49m\u001b[38;5;124;43m\"\u001b[39;49m\u001b[38;5;124;43mcsr\u001b[39;49m\u001b[38;5;124;43m\"\u001b[39;49m\u001b[43m,\u001b[49m\u001b[43m \u001b[49m\u001b[43mreset\u001b[49m\u001b[38;5;241;43m=\u001b[39;49m\u001b[38;5;28;43;01mFalse\u001b[39;49;00m\u001b[43m)\u001b[49m\n\u001b[1;32m    364\u001b[0m scores \u001b[38;5;241m=\u001b[39m safe_sparse_dot(X, \u001b[38;5;28mself\u001b[39m\u001b[38;5;241m.\u001b[39mcoef_\u001b[38;5;241m.\u001b[39mT, dense_output\u001b[38;5;241m=\u001b[39m\u001b[38;5;28;01mTrue\u001b[39;00m) \u001b[38;5;241m+\u001b[39m \u001b[38;5;28mself\u001b[39m\u001b[38;5;241m.\u001b[39mintercept_\n\u001b[1;32m    365\u001b[0m \u001b[38;5;28;01mreturn\u001b[39;00m xp\u001b[38;5;241m.\u001b[39mreshape(scores, (\u001b[38;5;241m-\u001b[39m\u001b[38;5;241m1\u001b[39m,)) \u001b[38;5;28;01mif\u001b[39;00m scores\u001b[38;5;241m.\u001b[39mshape[\u001b[38;5;241m1\u001b[39m] \u001b[38;5;241m==\u001b[39m \u001b[38;5;241m1\u001b[39m \u001b[38;5;28;01melse\u001b[39;00m scores\n",
      "File \u001b[0;32m/opt/miniconda3/envs/cs771/lib/python3.12/site-packages/sklearn/base.py:608\u001b[0m, in \u001b[0;36mBaseEstimator._validate_data\u001b[0;34m(self, X, y, reset, validate_separately, cast_to_ndarray, **check_params)\u001b[0m\n\u001b[1;32m    537\u001b[0m \u001b[38;5;28;01mdef\u001b[39;00m \u001b[38;5;21m_validate_data\u001b[39m(\n\u001b[1;32m    538\u001b[0m     \u001b[38;5;28mself\u001b[39m,\n\u001b[1;32m    539\u001b[0m     X\u001b[38;5;241m=\u001b[39m\u001b[38;5;124m\"\u001b[39m\u001b[38;5;124mno_validation\u001b[39m\u001b[38;5;124m\"\u001b[39m,\n\u001b[0;32m   (...)\u001b[0m\n\u001b[1;32m    544\u001b[0m     \u001b[38;5;241m*\u001b[39m\u001b[38;5;241m*\u001b[39mcheck_params,\n\u001b[1;32m    545\u001b[0m ):\n\u001b[1;32m    546\u001b[0m \u001b[38;5;250m    \u001b[39m\u001b[38;5;124;03m\"\"\"Validate input data and set or check the `n_features_in_` attribute.\u001b[39;00m\n\u001b[1;32m    547\u001b[0m \n\u001b[1;32m    548\u001b[0m \u001b[38;5;124;03m    Parameters\u001b[39;00m\n\u001b[0;32m   (...)\u001b[0m\n\u001b[1;32m    606\u001b[0m \u001b[38;5;124;03m        validated.\u001b[39;00m\n\u001b[1;32m    607\u001b[0m \u001b[38;5;124;03m    \"\"\"\u001b[39;00m\n\u001b[0;32m--> 608\u001b[0m     \u001b[38;5;28;43mself\u001b[39;49m\u001b[38;5;241;43m.\u001b[39;49m\u001b[43m_check_feature_names\u001b[49m\u001b[43m(\u001b[49m\u001b[43mX\u001b[49m\u001b[43m,\u001b[49m\u001b[43m \u001b[49m\u001b[43mreset\u001b[49m\u001b[38;5;241;43m=\u001b[39;49m\u001b[43mreset\u001b[49m\u001b[43m)\u001b[49m\n\u001b[1;32m    610\u001b[0m     \u001b[38;5;28;01mif\u001b[39;00m y \u001b[38;5;129;01mis\u001b[39;00m \u001b[38;5;28;01mNone\u001b[39;00m \u001b[38;5;129;01mand\u001b[39;00m \u001b[38;5;28mself\u001b[39m\u001b[38;5;241m.\u001b[39m_get_tags()[\u001b[38;5;124m\"\u001b[39m\u001b[38;5;124mrequires_y\u001b[39m\u001b[38;5;124m\"\u001b[39m]:\n\u001b[1;32m    611\u001b[0m         \u001b[38;5;28;01mraise\u001b[39;00m \u001b[38;5;167;01mValueError\u001b[39;00m(\n\u001b[1;32m    612\u001b[0m             \u001b[38;5;124mf\u001b[39m\u001b[38;5;124m\"\u001b[39m\u001b[38;5;124mThis \u001b[39m\u001b[38;5;132;01m{\u001b[39;00m\u001b[38;5;28mself\u001b[39m\u001b[38;5;241m.\u001b[39m\u001b[38;5;18m__class__\u001b[39m\u001b[38;5;241m.\u001b[39m\u001b[38;5;18m__name__\u001b[39m\u001b[38;5;132;01m}\u001b[39;00m\u001b[38;5;124m estimator \u001b[39m\u001b[38;5;124m\"\u001b[39m\n\u001b[1;32m    613\u001b[0m             \u001b[38;5;124m\"\u001b[39m\u001b[38;5;124mrequires y to be passed, but the target y is None.\u001b[39m\u001b[38;5;124m\"\u001b[39m\n\u001b[1;32m    614\u001b[0m         )\n",
      "File \u001b[0;32m/opt/miniconda3/envs/cs771/lib/python3.12/site-packages/sklearn/base.py:535\u001b[0m, in \u001b[0;36mBaseEstimator._check_feature_names\u001b[0;34m(self, X, reset)\u001b[0m\n\u001b[1;32m    530\u001b[0m \u001b[38;5;28;01mif\u001b[39;00m \u001b[38;5;129;01mnot\u001b[39;00m missing_names \u001b[38;5;129;01mand\u001b[39;00m \u001b[38;5;129;01mnot\u001b[39;00m unexpected_names:\n\u001b[1;32m    531\u001b[0m     message \u001b[38;5;241m+\u001b[39m\u001b[38;5;241m=\u001b[39m (\n\u001b[1;32m    532\u001b[0m         \u001b[38;5;124m\"\u001b[39m\u001b[38;5;124mFeature names must be in the same order as they were in fit.\u001b[39m\u001b[38;5;130;01m\\n\u001b[39;00m\u001b[38;5;124m\"\u001b[39m\n\u001b[1;32m    533\u001b[0m     )\n\u001b[0;32m--> 535\u001b[0m \u001b[38;5;28;01mraise\u001b[39;00m \u001b[38;5;167;01mValueError\u001b[39;00m(message)\n",
      "\u001b[0;31mValueError\u001b[0m: The feature names should match those that were passed during fit.\nFeature names seen at fit time, yet now missing:\n- c_10_😅\n- c_10_😉\n- c_10_😊\n- c_10_😔\n- c_10_😢\n- ...\n"
     ]
    }
   ],
   "source": [
    "from models import predict_logistic_regression\n",
    "oh_y_pred = predict_logistic_regression(oh_X_train, y_train, oh_X_val)\n",
    "\n",
    "evaluate_predictions(y_val, oh_y_pred, \"Logistic Regression on One hot\")"
   ]
  },
  {
   "cell_type": "code",
   "execution_count": 84,
   "metadata": {},
   "outputs": [
    {
     "name": "stdout",
     "output_type": "stream",
     "text": [
      "Train Classification Report for SVM on :\n",
      "               precision    recall  f1-score   support\n",
      "\n",
      "     Class 0       0.97      0.97      0.97      2857\n",
      "     Class 1       0.97      0.97      0.97      2807\n",
      "\n",
      "    accuracy                           0.97      5664\n",
      "   macro avg       0.97      0.97      0.97      5664\n",
      "weighted avg       0.97      0.97      0.97      5664\n",
      "\n",
      "Test Classification Report for SVM:\n",
      "               precision    recall  f1-score   support\n",
      "\n",
      "     Class 0       0.84      0.85      0.84       719\n",
      "     Class 1       0.84      0.84      0.84       697\n",
      "\n",
      "    accuracy                           0.84      1416\n",
      "   macro avg       0.84      0.84      0.84      1416\n",
      "weighted avg       0.84      0.84      0.84      1416\n",
      "\n"
     ]
    },
    {
     "data": {
      "image/png": "[encoded data removed]",
      "text/plain": [
       "<Figure size 640x480 with 2 Axes>"
      ]
     },
     "metadata": {},
     "output_type": "display_data"
    },
    {
     "data": {
      "image/png": "[encoded data removed]",
      "text/plain": [
       "<Figure size 640x480 with 2 Axes>"
      ]
     },
     "metadata": {},
     "output_type": "display_data"
    }
   ],
   "source": [
    "from models import predict_svc\n",
    "oh_y_pred = predict_logistic_regression(oh_X_train, y_train, oh_X_val)\n",
    "\n",
    "evaluate_predictions(y_val, oh_y_pred, \"Support Vector Classifier on One hot\")"
   ]
  },
  {
   "cell_type": "markdown",
   "metadata": {},
   "source": [
    "NOW WE USE XGBOOST"
   ]
  }
 ],
 "metadata": {
  "kernelspec": {
   "display_name": "771",
   "language": "python",
   "name": "python3"
  },
  "language_info": {
   "codemirror_mode": {
    "name": "ipython",
    "version": 3
   },
   "file_extension": ".py",
   "mimetype": "text/x-python",
   "name": "python",
   "nbconvert_exporter": "python",
   "pygments_lexer": "ipython3",
   "version": "3.12.6"
  }
 },
 "nbformat": 4,
 "nbformat_minor": 2
}
