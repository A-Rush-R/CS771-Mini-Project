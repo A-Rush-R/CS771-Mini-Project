{
 "cells": [
  {
   "cell_type": "code",
   "execution_count": 1,
   "metadata": {},
   "outputs": [],
   "source": [
    "import numpy as np\n",
    "import pandas as pda\n",
    "import os \n",
    "import sys\n",
    "sys.path.append(os.path.abspath('../common')) # add path to common functions"
   ]
  },
  {
   "cell_type": "code",
   "execution_count": 2,
   "metadata": {},
   "outputs": [],
   "source": [
    "from preprocess import getdfs\n",
    "\n",
    "def f(x):\n",
    "    return ' '.join(x)\n",
    "\n",
    "train_df, valid_df = getdfs('text_seq',1)\n",
    "\n",
    "train_df['input_str'] = train_df['input_str'].str.lstrip('0')\n",
    "train_df['input_str'] = train_df['input_str'].apply(lambda x: f(x))\n"
   ]
  },
  {
   "cell_type": "code",
   "execution_count": 3,
   "metadata": {},
   "outputs": [],
   "source": [
    "text_train = train_df['input_str'].values\n",
    "text_valid = valid_df['input_str'].values\n",
    "y_train = train_df['label'].values\n",
    "y_valid = valid_df['label'].values"
   ]
  },
  {
   "cell_type": "code",
   "execution_count": 4,
   "metadata": {},
   "outputs": [],
   "source": [
    "import nltk\n",
    "from sklearn.feature_extraction.text import CountVectorizer\n",
    "from sklearn.model_selection import train_test_split\n",
    "from sklearn.linear_model import LogisticRegression\n",
    "\n",
    "vectorizer = CountVectorizer(ngram_range=(3, 5), analyzer='char')  # Extract n-grams\n",
    "x_train = vectorizer.fit_transform(text_train).toarray()\n",
    "x_valid = vectorizer.transform(text_valid).toarray()"
   ]
  },
  {
   "cell_type": "code",
   "execution_count": null,
   "metadata": {},
   "outputs": [],
   "source": [
    "from models import predict_logistic_regression\n",
    "from evaluate import evaluate_predictions\n",
    "\n",
    "y_pred_lr = predict_logistic_regression(x_train, y_train, x_valid, grid_search= True)\n",
    "evaluate_predictions(y_valid, y_pred_lr, title = 'ngram then LR')"
   ]
  }
 ],
 "metadata": {
  "kernelspec": {
   "display_name": "771",
   "language": "python",
   "name": "python3"
  },
  "language_info": {
   "codemirror_mode": {
    "name": "ipython",
    "version": 3
   },
   "file_extension": ".py",
   "mimetype": "text/x-python",
   "name": "python",
   "nbconvert_exporter": "python",
   "pygments_lexer": "ipython3",
   "version": "3.12.5"
  }
 },
 "nbformat": 4,
 "nbformat_minor": 2
}
