{
 "cells": [
  {
   "cell_type": "code",
   "execution_count": 1,
   "metadata": {},
   "outputs": [],
   "source": [
    "import os\n",
    "import sys\n",
    "\n",
    "import pandas as pd\n",
    "import numpy as np\n",
    "import typing\n",
    "\n",
    "sys.path.append(os.path.abspath(\"../common\"))  # add path to common functions\n",
    "from evaluate import evaluate_predictions\n",
    "from preprocess import getdfs, get_char_columns\n",
    "from preprocess import one_hot_encode\n",
    "from models import predict_logistic_regression\n",
    "from models import grid_search_\n",
    "from models import predict_xgboost"
   ]
  },
  {
   "cell_type": "code",
   "execution_count": 2,
   "metadata": {},
   "outputs": [],
   "source": [
    "emo_df, emo_val_df = getdfs('emoticon')"
   ]
  },
  {
   "cell_type": "code",
   "execution_count": 3,
   "metadata": {},
   "outputs": [
    {
     "data": {
      "text/html": [
       "<div>\n",
       "<style scoped>\n",
       "    .dataframe tbody tr th:only-of-type {\n",
       "        vertical-align: middle;\n",
       "    }\n",
       "\n",
       "    .dataframe tbody tr th {\n",
       "        vertical-align: top;\n",
       "    }\n",
       "\n",
       "    .dataframe thead th {\n",
       "        text-align: right;\n",
       "    }\n",
       "</style>\n",
       "<table border=\"1\" class=\"dataframe\">\n",
       "  <thead>\n",
       "    <tr style=\"text-align: right;\">\n",
       "      <th></th>\n",
       "      <th>c_1</th>\n",
       "      <th>c_2</th>\n",
       "      <th>c_3</th>\n",
       "      <th>c_4</th>\n",
       "      <th>c_5</th>\n",
       "      <th>c_6</th>\n",
       "      <th>c_7</th>\n",
       "      <th>c_8</th>\n",
       "      <th>c_9</th>\n",
       "      <th>c_10</th>\n",
       "      <th>c_11</th>\n",
       "      <th>c_12</th>\n",
       "      <th>c_13</th>\n",
       "      <th>label</th>\n",
       "    </tr>\n",
       "  </thead>\n",
       "  <tbody>\n",
       "    <tr>\n",
       "      <th>0</th>\n",
       "      <td>😛</td>\n",
       "      <td>🛐</td>\n",
       "      <td>😻</td>\n",
       "      <td>😑</td>\n",
       "      <td>😣</td>\n",
       "      <td>🙠</td>\n",
       "      <td>🙯</td>\n",
       "      <td>🚼</td>\n",
       "      <td>😒</td>\n",
       "      <td>🙼</td>\n",
       "      <td>😑</td>\n",
       "      <td>🙯</td>\n",
       "      <td>😣</td>\n",
       "      <td>0</td>\n",
       "    </tr>\n",
       "    <tr>\n",
       "      <th>1</th>\n",
       "      <td>🛐</td>\n",
       "      <td>😑</td>\n",
       "      <td>😪</td>\n",
       "      <td>😛</td>\n",
       "      <td>🚼</td>\n",
       "      <td>🙯</td>\n",
       "      <td>😣</td>\n",
       "      <td>🚅</td>\n",
       "      <td>😑</td>\n",
       "      <td>🙯</td>\n",
       "      <td>😹</td>\n",
       "      <td>😣</td>\n",
       "      <td>🙼</td>\n",
       "      <td>0</td>\n",
       "    </tr>\n",
       "    <tr>\n",
       "      <th>2</th>\n",
       "      <td>😛</td>\n",
       "      <td>🙯</td>\n",
       "      <td>😑</td>\n",
       "      <td>🚡</td>\n",
       "      <td>😣</td>\n",
       "      <td>🚼</td>\n",
       "      <td>🛐</td>\n",
       "      <td>🙲</td>\n",
       "      <td>😣</td>\n",
       "      <td>🙯</td>\n",
       "      <td>🛑</td>\n",
       "      <td>😑</td>\n",
       "      <td>🙼</td>\n",
       "      <td>0</td>\n",
       "    </tr>\n",
       "    <tr>\n",
       "      <th>3</th>\n",
       "      <td>😛</td>\n",
       "      <td>🚼</td>\n",
       "      <td>🛐</td>\n",
       "      <td>🙐</td>\n",
       "      <td>😣</td>\n",
       "      <td>🙯</td>\n",
       "      <td>😑</td>\n",
       "      <td>🙪</td>\n",
       "      <td>😑</td>\n",
       "      <td>🙼</td>\n",
       "      <td>🛆</td>\n",
       "      <td>😣</td>\n",
       "      <td>🙯</td>\n",
       "      <td>1</td>\n",
       "    </tr>\n",
       "    <tr>\n",
       "      <th>4</th>\n",
       "      <td>🛐</td>\n",
       "      <td>🚟</td>\n",
       "      <td>🚼</td>\n",
       "      <td>😛</td>\n",
       "      <td>🙋</td>\n",
       "      <td>😑</td>\n",
       "      <td>😣</td>\n",
       "      <td>🙯</td>\n",
       "      <td>😹</td>\n",
       "      <td>🙯</td>\n",
       "      <td>😑</td>\n",
       "      <td>😣</td>\n",
       "      <td>🙼</td>\n",
       "      <td>1</td>\n",
       "    </tr>\n",
       "  </tbody>\n",
       "</table>\n",
       "</div>"
      ],
      "text/plain": [
       "  c_1 c_2 c_3 c_4 c_5 c_6 c_7 c_8 c_9 c_10 c_11 c_12 c_13  label\n",
       "0   😛   🛐   😻   😑   😣   🙠   🙯   🚼   😒    🙼    😑    🙯    😣      0\n",
       "1   🛐   😑   😪   😛   🚼   🙯   😣   🚅   😑    🙯    😹    😣    🙼      0\n",
       "2   😛   🙯   😑   🚡   😣   🚼   🛐   🙲   😣    🙯    🛑    😑    🙼      0\n",
       "3   😛   🚼   🛐   🙐   😣   🙯   😑   🙪   😑    🙼    🛆    😣    🙯      1\n",
       "4   🛐   🚟   🚼   😛   🙋   😑   😣   🙯   😹    🙯    😑    😣    🙼      1"
      ]
     },
     "execution_count": 3,
     "metadata": {},
     "output_type": "execute_result"
    }
   ],
   "source": [
    "emo_df = get_char_columns(emo_df)\n",
    "emo_df.head()\n"
   ]
  },
  {
   "cell_type": "code",
   "execution_count": 4,
   "metadata": {},
   "outputs": [],
   "source": [
    "\n",
    "repeat_emos = ['🙼', '🛐', '🙯', '😛', '😣', '😑', '🚼']\n",
    "\n",
    "repeat_emo_code = {\n",
    "     '🙼' : '284',\n",
    "     '🛐' : '464', \n",
    "     '🙯' : '262',\n",
    "     '😛' : '15436', \n",
    "     '😣' : '614',\n",
    "     '😑' : '1596', \n",
    "     '🚼' : '422'\n",
    "}"
   ]
  },
  {
   "cell_type": "code",
   "execution_count": 5,
   "metadata": {},
   "outputs": [],
   "source": [
    "train_df, valid_df = getdfs('text_seq')"
   ]
  },
  {
   "cell_type": "code",
   "execution_count": 6,
   "metadata": {},
   "outputs": [],
   "source": [
    "def remove_substrings(input_string, substrings):\n",
    "    \"\"\"\n",
    "    Removes all occurrences of substrings from the input string.\n",
    "\n",
    "    Parameters:\n",
    "    input_string (str): The string to remove substrings from.\n",
    "    substrings (list): List of substrings to remove from the input string.\n",
    "\n",
    "    Returns:\n",
    "    str: The input string with substrings removed.\n",
    "    \"\"\"\n",
    "    for substring in substrings:\n",
    "        input_string = input_string.replace(substring, \"\")\n",
    "    return input_string\n"
   ]
  },
  {
   "cell_type": "code",
   "execution_count": 7,
   "metadata": {},
   "outputs": [],
   "source": [
    "def process_strings ( strs : typing.List[str] )-> typing.List[str]:\n",
    "    strs = [x.lstrip('0') for x in strs]\n",
    "\n",
    "    # Example usage\n",
    "    substrings = repeat_emo_code.values()\n",
    "\n",
    "    # Remove the substrings\n",
    "    strs = [remove_substrings(input_string, substrings) for input_string in strs]\n",
    "\n",
    "    padded_strs = []\n",
    "\n",
    "    for s in strs:\n",
    "        if len(s) < 15:\n",
    "            s = s + '0'*(15-len(s))\n",
    "        padded_strs.append(s)\n",
    "\n",
    "    return padded_strs"
   ]
  },
  {
   "cell_type": "code",
   "execution_count": 8,
   "metadata": {},
   "outputs": [],
   "source": [
    "train_df['input_str'] = process_strings(train_df['input_str'])\n",
    "valid_df['input_str'] = process_strings(valid_df['input_str'])"
   ]
  },
  {
   "cell_type": "code",
   "execution_count": 11,
   "metadata": {},
   "outputs": [],
   "source": [
    "num_feat = 15\n",
    "\n",
    "def get_columns (df) :\n",
    "    for i in range(num_feat):\n",
    "        df[f'c_{i}'] = df['input_str'].apply(lambda x : x[i])\n",
    "    return df.drop(columns = ['input_str'])\n",
    "\n",
    "train_df = get_columns(train_df)\n",
    "valid_df = get_columns(valid_df)"
   ]
  },
  {
   "cell_type": "code",
   "execution_count": 12,
   "metadata": {},
   "outputs": [
    {
     "name": "stdout",
     "output_type": "stream",
     "text": [
      "10\n",
      "10\n",
      "10\n",
      "10\n",
      "10\n",
      "10\n",
      "10\n",
      "10\n",
      "10\n",
      "10\n",
      "10\n",
      "10\n",
      "10\n",
      "10\n",
      "2\n"
     ]
    }
   ],
   "source": [
    "for col in train_df.columns[1:] :\n",
    "    print(train_df[col].nunique())"
   ]
  },
  {
   "cell_type": "markdown",
   "metadata": {},
   "source": [
    "## One Hot Encoding"
   ]
  },
  {
   "cell_type": "code",
   "execution_count": 11,
   "metadata": {},
   "outputs": [
    {
     "name": "stdout",
     "output_type": "stream",
     "text": [
      "(7080, 142) (489, 142)\n"
     ]
    }
   ],
   "source": [
    "# Feature engineering (example: one-hot encoding)\n",
    "from sklearn.preprocessing import OneHotEncoder\n",
    "from preprocess import one_hot_encode\n",
    "\n",
    "train_df, valid_df, y_train, y_valid = one_hot_encode(train_df, valid_df)"
   ]
  },
  {
   "cell_type": "code",
   "execution_count": 12,
   "metadata": {},
   "outputs": [
    {
     "data": {
      "text/plain": [
       "(489,)"
      ]
     },
     "execution_count": 12,
     "metadata": {},
     "output_type": "execute_result"
    }
   ],
   "source": [
    "y_valid.shape"
   ]
  },
  {
   "cell_type": "code",
   "execution_count": 13,
   "metadata": {},
   "outputs": [],
   "source": [
    "x_train = train_df.values\n",
    "x_valid = valid_df.values"
   ]
  },
  {
   "cell_type": "code",
   "execution_count": 14,
   "metadata": {},
   "outputs": [],
   "source": [
    "from models import predict_random_forest, predict_xgboost, predict_mlp, predict_logistic_regression, predict_svc\n",
    "from evaluate import evaluate_predictions\n",
    "import matplotlib.pyplot as plt"
   ]
  },
  {
   "cell_type": "code",
   "execution_count": null,
   "metadata": {},
   "outputs": [
    {
     "name": "stdout",
     "output_type": "stream",
     "text": [
      "==========Random Forest==========\n",
      "              precision    recall  f1-score   support\n",
      "\n",
      "     Class 0       0.81      0.84      0.82       252\n",
      "     Class 1       0.82      0.78      0.80       237\n",
      "\n",
      "    accuracy                           0.81       489\n",
      "   macro avg       0.81      0.81      0.81       489\n",
      "weighted avg       0.81      0.81      0.81       489\n",
      "\n",
      "Accuracy is 0.8118609406952966\n",
      "==========Random Forest==========\n"
     ]
    },
    {
     "name": "stderr",
     "output_type": "stream",
     "text": [
      "/home/arush-upadhyaya/anaconda3/envs/771/lib/python3.12/site-packages/xgboost/core.py:158: UserWarning: [16:24:28] WARNING: /workspace/src/learner.cc:740: \n",
      "Parameters: { \"use_label_encoder\" } are not used.\n",
      "\n",
      "  warnings.warn(smsg, UserWarning)\n"
     ]
    },
    {
     "name": "stdout",
     "output_type": "stream",
     "text": [
      "==========XGBoost==========\n",
      "              precision    recall  f1-score   support\n",
      "\n",
      "     Class 0       0.89      0.83      0.86       252\n",
      "     Class 1       0.83      0.89      0.86       237\n",
      "\n",
      "    accuracy                           0.86       489\n",
      "   macro avg       0.86      0.86      0.86       489\n",
      "weighted avg       0.87      0.86      0.86       489\n",
      "\n",
      "Accuracy is 0.8629856850715747\n",
      "==========XGBoost==========\n",
      "==========Logistic Regression==========\n",
      "              precision    recall  f1-score   support\n",
      "\n",
      "     Class 0       0.70      0.69      0.69       252\n",
      "     Class 1       0.67      0.68      0.68       237\n",
      "\n",
      "    accuracy                           0.69       489\n",
      "   macro avg       0.68      0.69      0.68       489\n",
      "weighted avg       0.69      0.69      0.69       489\n",
      "\n",
      "Accuracy is 0.6850715746421268\n",
      "==========Logistic Regression==========\n",
      "==========MLP==========\n",
      "              precision    recall  f1-score   support\n",
      "\n",
      "     Class 0       0.83      0.82      0.83       252\n",
      "     Class 1       0.81      0.83      0.82       237\n",
      "\n",
      "    accuracy                           0.82       489\n",
      "   macro avg       0.82      0.82      0.82       489\n",
      "weighted avg       0.82      0.82      0.82       489\n",
      "\n",
      "Accuracy is 0.8241308793456033\n",
      "==========MLP==========\n"
     ]
    },
    {
     "name": "stderr",
     "output_type": "stream",
     "text": [
      "/home/arush-upadhyaya/anaconda3/envs/771/lib/python3.12/site-packages/sklearn/svm/_base.py:297: ConvergenceWarning: Solver terminated early (max_iter=1000).  Consider pre-processing your data with StandardScaler or MinMaxScaler.\n",
      "  warnings.warn(\n"
     ]
    },
    {
     "name": "stdout",
     "output_type": "stream",
     "text": [
      "==========SVC==========\n",
      "              precision    recall  f1-score   support\n",
      "\n",
      "     Class 0       0.81      0.79      0.80       252\n",
      "     Class 1       0.78      0.80      0.79       237\n",
      "\n",
      "    accuracy                           0.79       489\n",
      "   macro avg       0.79      0.79      0.79       489\n",
      "weighted avg       0.79      0.79      0.79       489\n",
      "\n",
      "Accuracy is 0.7934560327198364\n",
      "==========SVC==========\n"
     ]
    },
    {
     "data": {
      "image/png": "[encoded data removed]",
      "text/plain": [
       "<Figure size 2000x400 with 10 Axes>"
      ]
     },
     "metadata": {},
     "output_type": "display_data"
    }
   ],
   "source": [
    "import matplotlib.pyplot as plt\n",
    "fig, axes = plt.subplots(1, 5, figsize=(20, 4))  # 1 row, 5 columns grid\n",
    "\n",
    "y_pred_rf = predict_random_forest(x_train, y_train, x_valid)\n",
    "evaluate_predictions(y_valid, y_pred_rf, 'Random Forest', ax=axes[0])\n",
    "\n",
    "y_pred_xgb = predict_xgboost(x_train, y_train, x_valid)\n",
    "evaluate_predictions(y_valid, y_pred_xgb, 'XGBoost', ax=axes[1])\n",
    "\n",
    "y_pred_lr = predict_logistic_regression(x_train, y_train, x_valid)\n",
    "evaluate_predictions(y_valid, y_pred_lr, 'Logistic Regression', ax=axes[2])\n",
    "\n",
    "y_pred_mlp = predict_mlp(x_train, y_train, x_valid)\n",
    "evaluate_predictions(y_valid, y_pred_mlp, 'MLP', ax = axes[3])\n",
    "\n",
    "y_pred_svc = predict_svc(x_train, y_train, x_valid)\n",
    "evaluate_predictions(y_valid, y_pred_svc, 'SVC', ax = axes[4])\n",
    "\n",
    "plt.tight_layout()\n",
    "plt.show()"
   ]
  },
  {
   "cell_type": "code",
   "execution_count": null,
   "metadata": {},
   "outputs": [],
   "source": []
  }
 ],
 "metadata": {
  "kernelspec": {
   "display_name": "771",
   "language": "python",
   "name": "python3"
  },
  "language_info": {
   "codemirror_mode": {
    "name": "ipython",
    "version": 3
   },
   "file_extension": ".py",
   "mimetype": "text/x-python",
   "name": "python",
   "nbconvert_exporter": "python",
   "pygments_lexer": "ipython3",
   "version": "3.12.5"
  }
 },
 "nbformat": 4,
 "nbformat_minor": 2
}
