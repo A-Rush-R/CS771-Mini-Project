{
 "cells": [
  {
   "cell_type": "code",
   "execution_count": 39,
   "metadata": {},
   "outputs": [],
   "source": [
    "import numpy as np\n",
    "import pandas as pd\n",
    "import os \n",
    "import sys\n",
    "sys.path.append(os.path.abspath('../common')) # add path to common functions\n",
    "from preprocess import getdfs"
   ]
  },
  {
   "cell_type": "code",
   "execution_count": 40,
   "metadata": {},
   "outputs": [
    {
     "name": "stdout",
     "output_type": "stream",
     "text": [
      "Longest Common Subsequence: 0004661596\n"
     ]
    }
   ],
   "source": [
    "def lcs_multiple(strings):\n",
    "    if not strings:\n",
    "        return \"\"\n",
    "\n",
    "    # Function to find LCS of two strings\n",
    "    def lcs_two(str1, str2):\n",
    "        m, n = len(str1), len(str2)\n",
    "        dp = [[\"\" for _ in range(n + 1)] for _ in range(m + 1)]\n",
    "\n",
    "        for i in range(1, m + 1):\n",
    "            for j in range(1, n + 1):\n",
    "                if str1[i - 1] == str2[j - 1]:\n",
    "                    dp[i][j] = dp[i - 1][j - 1] + str1[i - 1]\n",
    "                else:\n",
    "                    dp[i][j] = max(dp[i - 1][j], dp[i][j - 1], key=len)\n",
    "\n",
    "        return dp[m][n]\n",
    "\n",
    "    # Start with the first string\n",
    "    common_subseq = strings[0]\n",
    "\n",
    "    # Iteratively find LCS with each string\n",
    "    for string in strings[1:]:\n",
    "        common_subseq = lcs_two(common_subseq, string)\n",
    "        if not common_subseq:  # Early exit if no common subsequence\n",
    "            return \"\"\n",
    "\n",
    "    return common_subseq\n",
    "\n",
    "# Example usage\n",
    "strings = [x for x in train_df['input_str'].values]\n",
    "result = lcs_multiple(strings)\n",
    "print(\"Longest Common Subsequence:\", result)"
   ]
  },
  {
   "cell_type": "code",
   "execution_count": 41,
   "metadata": {},
   "outputs": [],
   "source": [
    "def remove_exact_subsequence(strings, subseq):\n",
    "    new_strings = []\n",
    "    \n",
    "    for string in strings:\n",
    "        iter_subseq = iter(subseq)  # Create an iterator for the subsequence\n",
    "        new_string = []\n",
    "        subseq_char = next(iter_subseq, None)  # Get the first character from subsequence\n",
    "        \n",
    "        for char in string:\n",
    "            if char == subseq_char:\n",
    "                subseq_char = next(iter_subseq, None)  # Move to the next character in subsequence\n",
    "            else:\n",
    "                new_string.append(char)  # Append non-matching characters\n",
    "        \n",
    "        new_strings.append(''.join(new_string))  # Join the list into a string\n",
    "\n",
    "    return new_strings"
   ]
  },
  {
   "cell_type": "code",
   "execution_count": 42,
   "metadata": {},
   "outputs": [],
   "source": [
    "def reduce_strings(strings) :\n",
    "    result = lcs_multiple(strings)\n",
    "    while result != '' :\n",
    "        strings = remove_exact_subsequence(strings, result)\n",
    "        result = lcs_multiple(strings)\n",
    "    return strings"
   ]
  },
  {
   "cell_type": "code",
   "execution_count": 46,
   "metadata": {},
   "outputs": [],
   "source": [
    "train_df, valid_df = getdfs(data = 'text_seq', train_size = 1)\n",
    "\n",
    "train_df['input_str'] = reduce_strings([x for x in train_df['input_str'].values])\n",
    "valid_df['input_str'] = [ string[:15] for string in reduce_strings([x for x in valid_df['input_str'].values])]"
   ]
  },
  {
   "cell_type": "code",
   "execution_count": 47,
   "metadata": {},
   "outputs": [
    {
     "data": {
      "text/plain": [
       "(15, 15)"
      ]
     },
     "execution_count": 47,
     "metadata": {},
     "output_type": "execute_result"
    }
   ],
   "source": [
    "len(train_df['input_str'][0]), len(valid_df['input_str'][0])"
   ]
  },
  {
   "cell_type": "code",
   "execution_count": 49,
   "metadata": {},
   "outputs": [],
   "source": [
    "num_feat = 15\n",
    "\n",
    "def get_columns (df) :\n",
    "    for i in range(num_feat):\n",
    "        df[f'c_{i}'] = df['input_str'].apply(lambda x : x[i])\n",
    "    return df.drop(columns = ['input_str'])\n",
    "\n",
    "train_df = get_columns(train_df)\n",
    "valid_df = get_columns(valid_df)"
   ]
  },
  {
   "cell_type": "markdown",
   "metadata": {},
   "source": [
    "## One Hot Encoding"
   ]
  },
  {
   "cell_type": "code",
   "execution_count": 50,
   "metadata": {},
   "outputs": [],
   "source": [
    "# Feature engineering (example: one-hot encoding)\n",
    "from sklearn.preprocessing import OneHotEncoder\n",
    "from preprocess import one_hot_encode\n",
    "\n",
    "train_df, valid_df, y_train, y_valid = one_hot_encode(train_df, valid_df)"
   ]
  },
  {
   "cell_type": "code",
   "execution_count": 51,
   "metadata": {},
   "outputs": [
    {
     "data": {
      "text/plain": [
       "(489,)"
      ]
     },
     "execution_count": 51,
     "metadata": {},
     "output_type": "execute_result"
    }
   ],
   "source": [
    "y_valid.shape"
   ]
  },
  {
   "cell_type": "code",
   "execution_count": 52,
   "metadata": {},
   "outputs": [],
   "source": [
    "x_train = train_df.values\n",
    "x_valid = valid_df.values"
   ]
  },
  {
   "cell_type": "code",
   "execution_count": 53,
   "metadata": {},
   "outputs": [
    {
     "data": {
      "text/plain": [
       "(489, 148)"
      ]
     },
     "execution_count": 53,
     "metadata": {},
     "output_type": "execute_result"
    }
   ],
   "source": [
    "x_valid.shape"
   ]
  },
  {
   "cell_type": "code",
   "execution_count": 54,
   "metadata": {},
   "outputs": [],
   "source": [
    "from models import predict_random_forest, predict_xgboost, predict_mlp, predict_logistic_regression, predict_svc\n",
    "from evaluate import evaluate_predictions\n",
    "import matplotlib.pyplot as plt"
   ]
  },
  {
   "cell_type": "code",
   "execution_count": 55,
   "metadata": {},
   "outputs": [
    {
     "data": {
      "image/png": "[encoded data removed]",
      "text/plain": [
       "<Figure size 2000x400 with 5 Axes>"
      ]
     },
     "metadata": {},
     "output_type": "display_data"
    }
   ],
   "source": [
    "fig, axes = plt.subplots(1, 5, figsize=(20, 4))  # 1 row, 5 columns grid"
   ]
  },
  {
   "cell_type": "code",
   "execution_count": 56,
   "metadata": {},
   "outputs": [
    {
     "name": "stdout",
     "output_type": "stream",
     "text": [
      "==========Random Forest==========\n",
      "              precision    recall  f1-score   support\n",
      "\n",
      "     Class 0       0.55      0.65      0.59       252\n",
      "     Class 1       0.54      0.43      0.48       237\n",
      "\n",
      "    accuracy                           0.54       489\n",
      "   macro avg       0.54      0.54      0.54       489\n",
      "weighted avg       0.54      0.54      0.54       489\n",
      "\n",
      "Accuracy is 0.5439672801635992\n",
      "==========Random Forest==========\n"
     ]
    }
   ],
   "source": [
    "y_pred_rf = predict_random_forest(x_train, y_train, x_valid)\n",
    "evaluate_predictions(y_valid, y_pred_rf, 'Random Forest', ax=axes[0])"
   ]
  },
  {
   "cell_type": "code",
   "execution_count": 57,
   "metadata": {},
   "outputs": [
    {
     "name": "stderr",
     "output_type": "stream",
     "text": [
      "/home/arush-upadhyaya/anaconda3/envs/771/lib/python3.12/site-packages/xgboost/core.py:158: UserWarning: [19:10:24] WARNING: /workspace/src/learner.cc:740: \n",
      "Parameters: { \"use_label_encoder\" } are not used.\n",
      "\n",
      "  warnings.warn(smsg, UserWarning)\n"
     ]
    },
    {
     "name": "stdout",
     "output_type": "stream",
     "text": [
      "==========XGBoost==========\n",
      "              precision    recall  f1-score   support\n",
      "\n",
      "     Class 0       0.60      0.67      0.63       252\n",
      "     Class 1       0.59      0.52      0.55       237\n",
      "\n",
      "    accuracy                           0.60       489\n",
      "   macro avg       0.59      0.59      0.59       489\n",
      "weighted avg       0.59      0.60      0.59       489\n",
      "\n",
      "Accuracy is 0.5950920245398773\n",
      "==========XGBoost==========\n"
     ]
    }
   ],
   "source": [
    "\n",
    "y_pred_xgb = predict_xgboost(x_train, y_train, x_valid)\n",
    "evaluate_predictions(y_valid, y_pred_xgb, 'XGBoost', ax=axes[1])"
   ]
  },
  {
   "cell_type": "code",
   "execution_count": 58,
   "metadata": {},
   "outputs": [
    {
     "name": "stdout",
     "output_type": "stream",
     "text": [
      "==========Logistic Regression==========\n",
      "              precision    recall  f1-score   support\n",
      "\n",
      "     Class 0       0.58      0.66      0.62       252\n",
      "     Class 1       0.58      0.49      0.53       237\n",
      "\n",
      "    accuracy                           0.58       489\n",
      "   macro avg       0.58      0.58      0.57       489\n",
      "weighted avg       0.58      0.58      0.58       489\n",
      "\n",
      "Accuracy is 0.5787321063394683\n",
      "==========Logistic Regression==========\n"
     ]
    }
   ],
   "source": [
    "y_pred_lr = predict_logistic_regression(x_train, y_train, x_valid)\n",
    "evaluate_predictions(y_valid, y_pred_lr, 'Logistic Regression', ax=axes[2])\n"
   ]
  },
  {
   "cell_type": "code",
   "execution_count": 59,
   "metadata": {},
   "outputs": [
    {
     "name": "stdout",
     "output_type": "stream",
     "text": [
      "==========MLP==========\n",
      "              precision    recall  f1-score   support\n",
      "\n",
      "     Class 0       0.58      0.57      0.58       252\n",
      "     Class 1       0.55      0.56      0.56       237\n",
      "\n",
      "    accuracy                           0.57       489\n",
      "   macro avg       0.57      0.57      0.57       489\n",
      "weighted avg       0.57      0.57      0.57       489\n",
      "\n",
      "Accuracy is 0.5664621676891616\n",
      "==========MLP==========\n"
     ]
    }
   ],
   "source": [
    "y_pred_mlp = predict_mlp(x_train, y_train, x_valid)\n",
    "evaluate_predictions(y_valid, y_pred_mlp, 'MLP', ax = axes[3])"
   ]
  },
  {
   "cell_type": "code",
   "execution_count": 60,
   "metadata": {},
   "outputs": [
    {
     "name": "stdout",
     "output_type": "stream",
     "text": [
      "==========svc==========\n",
      "              precision    recall  f1-score   support\n",
      "\n",
      "     Class 0       0.49      0.50      0.50       252\n",
      "     Class 1       0.46      0.44      0.45       237\n",
      "\n",
      "    accuracy                           0.47       489\n",
      "   macro avg       0.47      0.47      0.47       489\n",
      "weighted avg       0.47      0.47      0.47       489\n",
      "\n",
      "Accuracy is 0.47443762781186094\n",
      "==========svc==========\n"
     ]
    },
    {
     "name": "stderr",
     "output_type": "stream",
     "text": [
      "/home/arush-upadhyaya/anaconda3/envs/771/lib/python3.12/site-packages/sklearn/svm/_base.py:297: ConvergenceWarning: Solver terminated early (max_iter=1000).  Consider pre-processing your data with StandardScaler or MinMaxScaler.\n",
      "  warnings.warn(\n"
     ]
    }
   ],
   "source": [
    "y_pred_svc = predict_svc(x_train, y_train, x_valid)\n",
    "evaluate_predictions(y_valid, y_pred_svc, 'svc', ax = axes[4])"
   ]
  },
  {
   "cell_type": "code",
   "execution_count": 61,
   "metadata": {},
   "outputs": [
    {
     "data": {
      "text/plain": [
       "<Figure size 640x480 with 0 Axes>"
      ]
     },
     "metadata": {},
     "output_type": "display_data"
    }
   ],
   "source": [
    "\n",
    "plt.tight_layout()\n",
    "plt.show()"
   ]
  },
  {
   "cell_type": "code",
   "execution_count": 62,
   "metadata": {},
   "outputs": [
    {
     "name": "stdout",
     "output_type": "stream",
     "text": [
      "==========Multinomial Naive Bayes==========\n",
      "              precision    recall  f1-score   support\n",
      "\n",
      "     Class 0       0.57      0.60      0.59       252\n",
      "     Class 1       0.55      0.52      0.54       237\n",
      "\n",
      "    accuracy                           0.56       489\n",
      "   macro avg       0.56      0.56      0.56       489\n",
      "weighted avg       0.56      0.56      0.56       489\n",
      "\n",
      "Accuracy is 0.5623721881390593\n",
      "==========Multinomial Naive Bayes==========\n"
     ]
    },
    {
     "data": {
      "image/png": "[encoded data removed]",
      "text/plain": [
       "<Figure size 640x480 with 2 Axes>"
      ]
     },
     "metadata": {},
     "output_type": "display_data"
    }
   ],
   "source": [
    "from models import predict_mnb\n",
    "\n",
    "y_pred_mnb = predict_mnb(x_train, y_train, x_valid)\n",
    "evaluate_predictions(y_valid, y_pred_mnb, 'Multinomial Naive Bayes')"
   ]
  },
  {
   "cell_type": "code",
   "execution_count": null,
   "metadata": {},
   "outputs": [],
   "source": []
  }
 ],
 "metadata": {
  "kernelspec": {
   "display_name": "771",
   "language": "python",
   "name": "python3"
  },
  "language_info": {
   "codemirror_mode": {
    "name": "ipython",
    "version": 3
   },
   "file_extension": ".py",
   "mimetype": "text/x-python",
   "name": "python",
   "nbconvert_exporter": "python",
   "pygments_lexer": "ipython3",
   "version": "3.12.5"
  }
 },
 "nbformat": 4,
 "nbformat_minor": 2
}
